{
 "cells": [
  {
   "cell_type": "code",
   "execution_count": 2,
   "metadata": {},
   "outputs": [],
   "source": [
    "from neo4j import GraphDatabase as Graph"
   ]
  },
  {
   "cell_type": "code",
   "execution_count": 6,
   "metadata": {},
   "outputs": [],
   "source": [
    "class HelloWorldExample(object):\n",
    "\n",
    "    def __init__(self, uri, user, password):\n",
    "        self._driver = Graph.driver(uri, auth=(user, password))\n",
    "\n",
    "    def close(self):\n",
    "        self._driver.close()\n",
    "\n",
    "    def print_greeting(self, message):\n",
    "        with self._driver.session() as session:\n",
    "            greeting = session.write_transaction(self._create_and_return_greeting, message)\n",
    "            print(greeting)\n",
    "\n",
    "    @staticmethod\n",
    "    def _create_and_return_greeting(tx, message):\n",
    "        result = tx.run(\"CREATE (a:Greeting) \"\n",
    "                        \"SET a.message = $message \"\n",
    "                        \"RETURN a.message + ', from node ' + id(a)\", message=message)\n",
    "        return result.single()[0]"
   ]
  },
  {
   "cell_type": "code",
   "execution_count": 8,
   "metadata": {
    "scrolled": false
   },
   "outputs": [
    {
     "data": {
      "text/plain": [
       "<__main__.HelloWorldExample at 0x202f22d6b00>"
      ]
     },
     "execution_count": 8,
     "metadata": {},
     "output_type": "execute_result"
    }
   ],
   "source": [
    "HelloWorldExample('bolt://localhost:11002','neo4j','12345')"
   ]
  },
  {
   "cell_type": "code",
   "execution_count": 45,
   "metadata": {},
   "outputs": [],
   "source": [
    "from py2neo import Graph, Node, Relationship"
   ]
  },
  {
   "cell_type": "code",
   "execution_count": 36,
   "metadata": {},
   "outputs": [],
   "source": [
    "url=\"bolt://localhost:11002\"\n",
    "user=\"neo4j\"\n",
    "pwd=\"12345\""
   ]
  },
  {
   "cell_type": "code",
   "execution_count": 37,
   "metadata": {},
   "outputs": [],
   "source": [
    "KG = Graph(url,auth=(user, pwd))"
   ]
  },
  {
   "cell_type": "code",
   "execution_count": 53,
   "metadata": {},
   "outputs": [],
   "source": [
    "tx = KG.begin()\n",
    "a = Node(\"Human\", name=\"Alice\")\n",
    "tx.create(a) \n",
    "b = Node(\"Human\", name=\"Bob\")\n",
    "tx.create(b)\n",
    "ab = Relationship(a,\"KNOWS\",b)\n",
    "tx.create(ab)\n",
    "tx.commit()"
   ]
  },
  {
   "cell_type": "code",
   "execution_count": 55,
   "metadata": {},
   "outputs": [
    {
     "data": {
      "text/plain": [
       "[{'a.born': 1964, 'a.name': 'Keanu Reeves'},\n",
       " {'a.born': 1967, 'a.name': 'Carrie-Anne Moss'},\n",
       " {'a.born': 1961, 'a.name': 'Laurence Fishburne'},\n",
       " {'a.born': 1960, 'a.name': 'Hugo Weaving'},\n",
       " {'a.born': 1967, 'a.name': 'Lilly Wachowski'},\n",
       " {'a.born': 1965, 'a.name': 'Lana Wachowski'},\n",
       " {'a.born': 1952, 'a.name': 'Joel Silver'},\n",
       " {'a.born': 1978, 'a.name': 'Emil Eifrem'},\n",
       " {'a.born': 1975, 'a.name': 'Charlize Theron'},\n",
       " {'a.born': 1940, 'a.name': 'Al Pacino'},\n",
       " {'a.born': 1944, 'a.name': 'Taylor Hackford'},\n",
       " {'a.born': 1962, 'a.name': 'Tom Cruise'},\n",
       " {'a.born': 1937, 'a.name': 'Jack Nicholson'},\n",
       " {'a.born': 1962, 'a.name': 'Demi Moore'},\n",
       " {'a.born': 1958, 'a.name': 'Kevin Bacon'},\n",
       " {'a.born': 1966, 'a.name': 'Kiefer Sutherland'},\n",
       " {'a.born': 1971, 'a.name': 'Noah Wyle'},\n",
       " {'a.born': 1968, 'a.name': 'Cuba Gooding Jr.'},\n",
       " {'a.born': 1957, 'a.name': 'Kevin Pollak'},\n",
       " {'a.born': 1943, 'a.name': 'J.T. Walsh'}]"
      ]
     },
     "execution_count": 55,
     "metadata": {},
     "output_type": "execute_result"
    }
   ],
   "source": [
    "KG.run(\"MATCH (a:Person) RETURN a.name, a.born LIMIT 20\").data()"
   ]
  },
  {
   "cell_type": "code",
   "execution_count": 56,
   "metadata": {},
   "outputs": [
    {
     "data": {
      "text/plain": [
       "[{'p.name': 'Lana Wachowski'}, {'p.name': 'Lilly Wachowski'}]"
      ]
     },
     "execution_count": 56,
     "metadata": {},
     "output_type": "execute_result"
    }
   ],
   "source": [
    "KG.run(\"MATCH (p:Person)-[:WROTE]->(:Movie {title: 'Speed Racer'}) RETURN p.name\").data()"
   ]
  },
  {
   "cell_type": "code",
   "execution_count": 72,
   "metadata": {},
   "outputs": [],
   "source": [
    "Hi = KG.run(\"MATCH (m:Movie)<--(:Person {name: 'Tom Hanks'}) RETURN m.title\")"
   ]
  },
  {
   "cell_type": "code",
   "execution_count": 73,
   "metadata": {},
   "outputs": [
    {
     "data": {
      "text/plain": [
       "<py2neo.database.Cursor at 0x202ede878d0>"
      ]
     },
     "execution_count": 73,
     "metadata": {},
     "output_type": "execute_result"
    }
   ],
   "source": [
    "Hi"
   ]
  },
  {
   "cell_type": "code",
   "execution_count": 74,
   "metadata": {},
   "outputs": [
    {
     "data": {
      "text/plain": [
       "[{'m.title': 'Apollo 13'},\n",
       " {'m.title': \"You've Got Mail\"},\n",
       " {'m.title': 'A League of Their Own'},\n",
       " {'m.title': 'Joe Versus the Volcano'},\n",
       " {'m.title': 'That Thing You Do'},\n",
       " {'m.title': 'The Da Vinci Code'},\n",
       " {'m.title': 'Cloud Atlas'},\n",
       " {'m.title': 'Cast Away'},\n",
       " {'m.title': 'The Green Mile'},\n",
       " {'m.title': 'Sleepless in Seattle'},\n",
       " {'m.title': 'The Polar Express'},\n",
       " {'m.title': \"Charlie Wilson's War\"},\n",
       " {'m.title': 'That Thing You Do'}]"
      ]
     },
     "execution_count": 74,
     "metadata": {},
     "output_type": "execute_result"
    }
   ],
   "source": [
    "Hi.data()"
   ]
  },
  {
   "cell_type": "code",
   "execution_count": 86,
   "metadata": {},
   "outputs": [
    {
     "data": {
      "text/html": [
       "<div>\n",
       "<style scoped>\n",
       "    .dataframe tbody tr th:only-of-type {\n",
       "        vertical-align: middle;\n",
       "    }\n",
       "\n",
       "    .dataframe tbody tr th {\n",
       "        vertical-align: top;\n",
       "    }\n",
       "\n",
       "    .dataframe thead th {\n",
       "        text-align: right;\n",
       "    }\n",
       "</style>\n",
       "<table border=\"1\" class=\"dataframe\">\n",
       "  <thead>\n",
       "    <tr style=\"text-align: right;\">\n",
       "      <th></th>\n",
       "      <th>actorName</th>\n",
       "      <th>movieName</th>\n",
       "      <th>relationType</th>\n",
       "    </tr>\n",
       "  </thead>\n",
       "  <tbody>\n",
       "    <tr>\n",
       "      <th>0</th>\n",
       "      <td>Tom Hanks</td>\n",
       "      <td>Apollo 13</td>\n",
       "      <td>ACTED_IN</td>\n",
       "    </tr>\n",
       "    <tr>\n",
       "      <th>1</th>\n",
       "      <td>Tom Hanks</td>\n",
       "      <td>You've Got Mail</td>\n",
       "      <td>ACTED_IN</td>\n",
       "    </tr>\n",
       "    <tr>\n",
       "      <th>2</th>\n",
       "      <td>Tom Hanks</td>\n",
       "      <td>A League of Their Own</td>\n",
       "      <td>ACTED_IN</td>\n",
       "    </tr>\n",
       "    <tr>\n",
       "      <th>3</th>\n",
       "      <td>Tom Hanks</td>\n",
       "      <td>Joe Versus the Volcano</td>\n",
       "      <td>ACTED_IN</td>\n",
       "    </tr>\n",
       "    <tr>\n",
       "      <th>4</th>\n",
       "      <td>Tom Hanks</td>\n",
       "      <td>That Thing You Do</td>\n",
       "      <td>ACTED_IN</td>\n",
       "    </tr>\n",
       "    <tr>\n",
       "      <th>5</th>\n",
       "      <td>Tom Hanks</td>\n",
       "      <td>The Da Vinci Code</td>\n",
       "      <td>ACTED_IN</td>\n",
       "    </tr>\n",
       "    <tr>\n",
       "      <th>6</th>\n",
       "      <td>Tom Hanks</td>\n",
       "      <td>Cloud Atlas</td>\n",
       "      <td>ACTED_IN</td>\n",
       "    </tr>\n",
       "    <tr>\n",
       "      <th>7</th>\n",
       "      <td>Tom Hanks</td>\n",
       "      <td>Cast Away</td>\n",
       "      <td>ACTED_IN</td>\n",
       "    </tr>\n",
       "    <tr>\n",
       "      <th>8</th>\n",
       "      <td>Tom Hanks</td>\n",
       "      <td>The Green Mile</td>\n",
       "      <td>ACTED_IN</td>\n",
       "    </tr>\n",
       "    <tr>\n",
       "      <th>9</th>\n",
       "      <td>Tom Hanks</td>\n",
       "      <td>Sleepless in Seattle</td>\n",
       "      <td>ACTED_IN</td>\n",
       "    </tr>\n",
       "    <tr>\n",
       "      <th>10</th>\n",
       "      <td>Tom Hanks</td>\n",
       "      <td>The Polar Express</td>\n",
       "      <td>ACTED_IN</td>\n",
       "    </tr>\n",
       "    <tr>\n",
       "      <th>11</th>\n",
       "      <td>Tom Hanks</td>\n",
       "      <td>Charlie Wilson's War</td>\n",
       "      <td>ACTED_IN</td>\n",
       "    </tr>\n",
       "    <tr>\n",
       "      <th>12</th>\n",
       "      <td>Tom Hanks</td>\n",
       "      <td>That Thing You Do</td>\n",
       "      <td>DIRECTED</td>\n",
       "    </tr>\n",
       "  </tbody>\n",
       "</table>\n",
       "</div>"
      ],
      "text/plain": [
       "    actorName               movieName relationType\n",
       "0   Tom Hanks               Apollo 13     ACTED_IN\n",
       "1   Tom Hanks         You've Got Mail     ACTED_IN\n",
       "2   Tom Hanks   A League of Their Own     ACTED_IN\n",
       "3   Tom Hanks  Joe Versus the Volcano     ACTED_IN\n",
       "4   Tom Hanks       That Thing You Do     ACTED_IN\n",
       "5   Tom Hanks       The Da Vinci Code     ACTED_IN\n",
       "6   Tom Hanks             Cloud Atlas     ACTED_IN\n",
       "7   Tom Hanks               Cast Away     ACTED_IN\n",
       "8   Tom Hanks          The Green Mile     ACTED_IN\n",
       "9   Tom Hanks    Sleepless in Seattle     ACTED_IN\n",
       "10  Tom Hanks       The Polar Express     ACTED_IN\n",
       "11  Tom Hanks    Charlie Wilson's War     ACTED_IN\n",
       "12  Tom Hanks       That Thing You Do     DIRECTED"
      ]
     },
     "execution_count": 86,
     "metadata": {},
     "output_type": "execute_result"
    }
   ],
   "source": [
    "import pandas as pandas\n",
    "pandas.DataFrame(KG.run(\"MATCH (m:Movie)-[rel]-(p:Person {name: 'Tom Hanks'}) RETURN m.title AS movieName,type(rel) AS relationType, p.name AS actorName\").data())"
   ]
  },
  {
   "cell_type": "code",
   "execution_count": 84,
   "metadata": {},
   "outputs": [
    {
     "data": {
      "text/html": [
       "<div>\n",
       "<style scoped>\n",
       "    .dataframe tbody tr th:only-of-type {\n",
       "        vertical-align: middle;\n",
       "    }\n",
       "\n",
       "    .dataframe tbody tr th {\n",
       "        vertical-align: top;\n",
       "    }\n",
       "\n",
       "    .dataframe thead th {\n",
       "        text-align: right;\n",
       "    }\n",
       "</style>\n",
       "<table border=\"1\" class=\"dataframe\">\n",
       "  <thead>\n",
       "    <tr style=\"text-align: right;\">\n",
       "      <th></th>\n",
       "      <th>m.title</th>\n",
       "      <th>rel.roles</th>\n",
       "    </tr>\n",
       "  </thead>\n",
       "  <tbody>\n",
       "    <tr>\n",
       "      <th>0</th>\n",
       "      <td>Apollo 13</td>\n",
       "      <td>[Jim Lovell]</td>\n",
       "    </tr>\n",
       "    <tr>\n",
       "      <th>1</th>\n",
       "      <td>You've Got Mail</td>\n",
       "      <td>[Joe Fox]</td>\n",
       "    </tr>\n",
       "    <tr>\n",
       "      <th>2</th>\n",
       "      <td>A League of Their Own</td>\n",
       "      <td>[Jimmy Dugan]</td>\n",
       "    </tr>\n",
       "    <tr>\n",
       "      <th>3</th>\n",
       "      <td>Joe Versus the Volcano</td>\n",
       "      <td>[Joe Banks]</td>\n",
       "    </tr>\n",
       "    <tr>\n",
       "      <th>4</th>\n",
       "      <td>That Thing You Do</td>\n",
       "      <td>[Mr. White]</td>\n",
       "    </tr>\n",
       "    <tr>\n",
       "      <th>5</th>\n",
       "      <td>The Da Vinci Code</td>\n",
       "      <td>[Dr. Robert Langdon]</td>\n",
       "    </tr>\n",
       "    <tr>\n",
       "      <th>6</th>\n",
       "      <td>Cloud Atlas</td>\n",
       "      <td>[Zachry, Dr. Henry Goose, Isaac Sachs, Dermot ...</td>\n",
       "    </tr>\n",
       "    <tr>\n",
       "      <th>7</th>\n",
       "      <td>Cast Away</td>\n",
       "      <td>[Chuck Noland]</td>\n",
       "    </tr>\n",
       "    <tr>\n",
       "      <th>8</th>\n",
       "      <td>The Green Mile</td>\n",
       "      <td>[Paul Edgecomb]</td>\n",
       "    </tr>\n",
       "    <tr>\n",
       "      <th>9</th>\n",
       "      <td>Sleepless in Seattle</td>\n",
       "      <td>[Sam Baldwin]</td>\n",
       "    </tr>\n",
       "    <tr>\n",
       "      <th>10</th>\n",
       "      <td>The Polar Express</td>\n",
       "      <td>[Hero Boy, Father, Conductor, Hobo, Scrooge, S...</td>\n",
       "    </tr>\n",
       "    <tr>\n",
       "      <th>11</th>\n",
       "      <td>Charlie Wilson's War</td>\n",
       "      <td>[Rep. Charlie Wilson]</td>\n",
       "    </tr>\n",
       "  </tbody>\n",
       "</table>\n",
       "</div>"
      ],
      "text/plain": [
       "                   m.title                                          rel.roles\n",
       "0                Apollo 13                                       [Jim Lovell]\n",
       "1          You've Got Mail                                          [Joe Fox]\n",
       "2    A League of Their Own                                      [Jimmy Dugan]\n",
       "3   Joe Versus the Volcano                                        [Joe Banks]\n",
       "4        That Thing You Do                                        [Mr. White]\n",
       "5        The Da Vinci Code                               [Dr. Robert Langdon]\n",
       "6              Cloud Atlas  [Zachry, Dr. Henry Goose, Isaac Sachs, Dermot ...\n",
       "7                Cast Away                                     [Chuck Noland]\n",
       "8           The Green Mile                                    [Paul Edgecomb]\n",
       "9     Sleepless in Seattle                                      [Sam Baldwin]\n",
       "10       The Polar Express  [Hero Boy, Father, Conductor, Hobo, Scrooge, S...\n",
       "11    Charlie Wilson's War                              [Rep. Charlie Wilson]"
      ]
     },
     "execution_count": 84,
     "metadata": {},
     "output_type": "execute_result"
    }
   ],
   "source": [
    "pandas.DataFrame(KG.run(\"MATCH (m:Movie)-[rel:ACTED_IN]-(:Person {name: 'Tom Hanks'}) RETURN m.title, rel.roles\").data())"
   ]
  },
  {
   "cell_type": "code",
   "execution_count": 87,
   "metadata": {},
   "outputs": [
    {
     "data": {
      "text/html": [
       "<div>\n",
       "<style scoped>\n",
       "    .dataframe tbody tr th:only-of-type {\n",
       "        vertical-align: middle;\n",
       "    }\n",
       "\n",
       "    .dataframe tbody tr th {\n",
       "        vertical-align: top;\n",
       "    }\n",
       "\n",
       "    .dataframe thead th {\n",
       "        text-align: right;\n",
       "    }\n",
       "</style>\n",
       "<table border=\"1\" class=\"dataframe\">\n",
       "  <thead>\n",
       "    <tr style=\"text-align: right;\">\n",
       "      <th></th>\n",
       "      <th>Movie</th>\n",
       "    </tr>\n",
       "  </thead>\n",
       "  <tbody>\n",
       "    <tr>\n",
       "      <th>0</th>\n",
       "      <td>Jerry Maguire</td>\n",
       "    </tr>\n",
       "    <tr>\n",
       "      <th>1</th>\n",
       "      <td>Top Gun</td>\n",
       "    </tr>\n",
       "    <tr>\n",
       "      <th>2</th>\n",
       "      <td>A Few Good Men</td>\n",
       "    </tr>\n",
       "  </tbody>\n",
       "</table>\n",
       "</div>"
      ],
      "text/plain": [
       "            Movie\n",
       "0   Jerry Maguire\n",
       "1         Top Gun\n",
       "2  A Few Good Men"
      ]
     },
     "execution_count": 87,
     "metadata": {},
     "output_type": "execute_result"
    }
   ],
   "source": [
    "pandas.DataFrame(KG.run(\"MATCH (a:Person)-[:ACTED_IN]->(m:Movie) WHERE a.name = 'Tom Cruise' RETURN m.title as Movie\").data())"
   ]
  },
  {
   "cell_type": "code",
   "execution_count": 88,
   "metadata": {},
   "outputs": [],
   "source": [
    "Query = \"MATCH (a:Person)-[:ACTED_IN]->(m:Movie) WHERE a.born > 1960 AND m.title = 'The Matrix' RETURN a.name as Name, a.born as `Year Born`\""
   ]
  },
  {
   "cell_type": "code",
   "execution_count": 90,
   "metadata": {},
   "outputs": [
    {
     "data": {
      "text/html": [
       "<div>\n",
       "<style scoped>\n",
       "    .dataframe tbody tr th:only-of-type {\n",
       "        vertical-align: middle;\n",
       "    }\n",
       "\n",
       "    .dataframe tbody tr th {\n",
       "        vertical-align: top;\n",
       "    }\n",
       "\n",
       "    .dataframe thead th {\n",
       "        text-align: right;\n",
       "    }\n",
       "</style>\n",
       "<table border=\"1\" class=\"dataframe\">\n",
       "  <thead>\n",
       "    <tr style=\"text-align: right;\">\n",
       "      <th></th>\n",
       "      <th>Name</th>\n",
       "      <th>Year Born</th>\n",
       "    </tr>\n",
       "  </thead>\n",
       "  <tbody>\n",
       "    <tr>\n",
       "      <th>0</th>\n",
       "      <td>Emil Eifrem</td>\n",
       "      <td>1978</td>\n",
       "    </tr>\n",
       "    <tr>\n",
       "      <th>1</th>\n",
       "      <td>Laurence Fishburne</td>\n",
       "      <td>1961</td>\n",
       "    </tr>\n",
       "    <tr>\n",
       "      <th>2</th>\n",
       "      <td>Carrie-Anne Moss</td>\n",
       "      <td>1967</td>\n",
       "    </tr>\n",
       "    <tr>\n",
       "      <th>3</th>\n",
       "      <td>Keanu Reeves</td>\n",
       "      <td>1964</td>\n",
       "    </tr>\n",
       "  </tbody>\n",
       "</table>\n",
       "</div>"
      ],
      "text/plain": [
       "                 Name  Year Born\n",
       "0         Emil Eifrem       1978\n",
       "1  Laurence Fishburne       1961\n",
       "2    Carrie-Anne Moss       1967\n",
       "3        Keanu Reeves       1964"
      ]
     },
     "execution_count": 90,
     "metadata": {},
     "output_type": "execute_result"
    }
   ],
   "source": [
    "pandas.DataFrame(KG.run(Query).data())"
   ]
  },
  {
   "cell_type": "code",
   "execution_count": null,
   "metadata": {},
   "outputs": [],
   "source": []
  }
 ],
 "metadata": {
  "kernelspec": {
   "display_name": "Python 3",
   "language": "python",
   "name": "python3"
  },
  "language_info": {
   "codemirror_mode": {
    "name": "ipython",
    "version": 3
   },
   "file_extension": ".py",
   "mimetype": "text/x-python",
   "name": "python",
   "nbconvert_exporter": "python",
   "pygments_lexer": "ipython3",
   "version": "3.6.6"
  }
 },
 "nbformat": 4,
 "nbformat_minor": 2
}
